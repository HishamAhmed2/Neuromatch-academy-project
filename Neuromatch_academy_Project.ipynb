{
  "nbformat": 4,
  "nbformat_minor": 0,
  "metadata": {
    "colab": {
      "name": "Neuromatch academy Project",
      "provenance": [],
      "collapsed_sections": [],
      "toc_visible": true,
      "include_colab_link": true
    },
    "kernelspec": {
      "name": "python3",
      "display_name": "Python 3"
    }
  },
  "cells": [
    {
      "cell_type": "markdown",
      "metadata": {
        "id": "view-in-github",
        "colab_type": "text"
      },
      "source": [
        "<a href=\"https://colab.research.google.com/github/HishamAhmed2/Neuromatch-academy-project/blob/master/Neuromatch_academy_Project.ipynb\" target=\"_parent\"><img src=\"https://colab.research.google.com/assets/colab-badge.svg\" alt=\"Open In Colab\"/></a>"
      ]
    },
    {
      "cell_type": "markdown",
      "metadata": {
        "id": "bEqdz1ZUMaj1"
      },
      "source": [
        "## Loading of Steinmetz data\n",
        "\n",
        "includes some visualizations"
      ]
    },
    {
      "cell_type": "code",
      "metadata": {
        "id": "TLWjKq8bLDqm",
        "cellView": "form"
      },
      "source": [
        "#@title Data retrieval\n",
        "import os, requests\n",
        "\n",
        "fname = []\n",
        "for j in range(3):\n",
        "  fname.append('steinmetz_part%d.npz'%j)\n",
        "url = [\"https://osf.io/agvxh/download\"]\n",
        "url.append(\"https://osf.io/uv3mw/download\")\n",
        "url.append(\"https://osf.io/ehmw2/download\")\n",
        "\n",
        "for j in range(len(url)):\n",
        "  if not os.path.isfile(fname[j]):\n",
        "    try:\n",
        "      r = requests.get(url[j])\n",
        "    except requests.ConnectionError:\n",
        "      print(\"!!! Failed to download data !!!\")\n",
        "    else:\n",
        "      if r.status_code != requests.codes.ok:\n",
        "        print(\"!!! Failed to download data !!!\")\n",
        "      else:\n",
        "        with open(fname[j], \"wb\") as fid:\n",
        "          fid.write(r.content)\n"
      ],
      "execution_count": null,
      "outputs": []
    },
    {
      "cell_type": "code",
      "metadata": {
        "id": "raBVOEWgUK_B",
        "cellView": "form"
      },
      "source": [
        "#@title Import matplotlib and set defaults\n",
        "from matplotlib import rcParams \n",
        "from matplotlib import pyplot as plt\n",
        "rcParams['figure.figsize'] = [20, 4]\n",
        "rcParams['font.size'] =15\n",
        "rcParams['axes.spines.top'] = False\n",
        "rcParams['axes.spines.right'] = False\n",
        "rcParams['figure.autolayout'] = True"
      ],
      "execution_count": null,
      "outputs": []
    },
    {
      "cell_type": "code",
      "metadata": {
        "id": "sffzC_hyLgWZ",
        "colab": {
          "base_uri": "https://localhost:8080/"
        },
        "outputId": "94d7953a-1f10-4c3e-81e0-785768fd292e"
      },
      "source": [
        "#@title Data loading\n",
        "import numpy as np\n",
        "\n",
        "alldat = np.array([])\n",
        "for j in range(len(fname)):\n",
        "  alldat = np.hstack((alldat, np.load('steinmetz_part%d.npz'%j, allow_pickle=True)['dat']))\n",
        "\n",
        "# select just one of the recordings here. 11 is nice because it has some neurons in vis ctx. \n",
        "dat = alldat[11]\n",
        "print(dat.keys())"
      ],
      "execution_count": null,
      "outputs": [
        {
          "output_type": "stream",
          "text": [
            "dict_keys(['spks', 'wheel', 'pupil', 'response', 'response_time', 'bin_size', 'stim_onset', 'contrast_right', 'contrast_left', 'brain_area', 'feedback_time', 'feedback_type', 'gocue', 'mouse_name', 'date_exp', 'trough_to_peak', 'active_trials', 'contrast_left_passive', 'contrast_right_passive', 'spks_passive', 'pupil_passive', 'wheel_passive', 'prev_reward', 'ccf', 'ccf_axes', 'cellid_orig', 'reaction_time', 'face', 'face_passive', 'licks', 'licks_passive'])\n"
          ],
          "name": "stdout"
        }
      ]
    },
    {
      "cell_type": "markdown",
      "metadata": {
        "id": "HarXxKXRlKrN"
      },
      "source": [
        "# **Data**"
      ]
    },
    {
      "cell_type": "markdown",
      "metadata": {
        "id": "ZH5XUqVKlIbw"
      },
      "source": [
        "Data from Steinmetz et al, 2019. The mouse is surrounded by three computer screens and the mouse has a wheel that he can turn left or right and a tube through which a drop of water is given to him when he answers correctly and there was two stimulus location on each of right and left screen and stimulus could be on one, the other, both or neither screen. if the stimulus was higher contrast on the right he should turn the wheel counterclockwise and if the stimulus was higher contrast on the left he should turn the wheel clockwise and if the stimulus was equal on both sides he had to stay still for 1.5 second and visual stimulus move on the screen as he moves the wheel and his goal is to bring the high contrast visual stimulus to the screen in the center. Time bins for all measurements are 10ms, starting 500ms before stimulus onset."
      ]
    },
    {
      "cell_type": "markdown",
      "metadata": {
        "id": "Ao_NJEbRnSjr"
      },
      "source": [
        "# Response time when contrast difference = 0"
      ]
    },
    {
      "cell_type": "markdown",
      "metadata": {
        "id": "7IXOoMDZnkeh"
      },
      "source": [
        "**conclousion**: when contrast difference equal 0 mice respond sometimes fast and sometimes slow"
      ]
    },
    {
      "cell_type": "code",
      "metadata": {
        "colab": {
          "base_uri": "https://localhost:8080/",
          "height": 246
        },
        "id": "tpHZ0Scrm5Am",
        "outputId": "18fc1108-1db0-49df-ee4b-67a04cf9b0c2"
      },
      "source": [
        "contrast_difference = contrast_left - contrast_right\n",
        "plt.scatter(response_time_after_gocue ,contrast_difference)\n",
        "plt.xlabel('response_time')\n",
        "plt.ylabel('contrast_difference')"
      ],
      "execution_count": null,
      "outputs": [
        {
          "output_type": "execute_result",
          "data": {
            "text/plain": [
              "Text(0, 0.5, 'contrast_difference')"
            ]
          },
          "metadata": {
            "tags": []
          },
          "execution_count": 7
        },
        {
          "output_type": "display_data",
          "data": {
            "image/png": "[encoded data removed]",
            "text/plain": [
              "<Figure size 1440x288 with 1 Axes>"
            ]
          },
          "metadata": {
            "tags": [],
            "needs_background": "light"
          }
        }
      ]
    },
    {
      "cell_type": "markdown",
      "metadata": {
        "id": "cH_Vb8QUjsuc"
      },
      "source": [
        "# Comaprison between feedback type before fast/slow response time ( contrast difference = 0 )"
      ]
    },
    {
      "cell_type": "markdown",
      "metadata": {
        "id": "gbqW9mmhj78f"
      },
      "source": [
        "**conclousion**: mice respond fast when the previous feedback was 1 and he respond slow when the previous feedback was -1 ( contrast difference= 0 ) "
      ]
    },
    {
      "cell_type": "code",
      "metadata": {
        "colab": {
          "base_uri": "https://localhost:8080/",
          "height": 245
        },
        "id": "gz3PlIKIjdPM",
        "outputId": "23fd2dc8-e69a-4e7f-9f56-e6a22c5ccaed"
      },
      "source": [
        "feedback_before_small = feedback_type[ small_response_time -1  ]\n",
        "feedback_before_large = feedback_type[ large_response_time -1  ]\n",
        "plt.hist(feedback_before_small, label= 'feedback before fast response time')\n",
        "plt.hist(feedback_before_large, label= 'feedback before slow response time', color='Orange')\n",
        "\n",
        "plt.legend()"
      ],
      "execution_count": null,
      "outputs": [
        {
          "output_type": "execute_result",
          "data": {
            "text/plain": [
              "<matplotlib.legend.Legend at 0x7f381d25eb10>"
            ]
          },
          "metadata": {
            "tags": []
          },
          "execution_count": 5
        },
        {
          "output_type": "display_data",
          "data": {
            "image/png": "[encoded data removed]",
            "text/plain": [
              "<Figure size 1440x288 with 1 Axes>"
            ]
          },
          "metadata": {
            "tags": [],
            "needs_background": "light"
          }
        }
      ]
    },
    {
      "cell_type": "markdown",
      "metadata": {
        "id": "JTekuVYOhRNk"
      },
      "source": [
        "# Logistic regression model "
      ]
    },
    {
      "cell_type": "markdown",
      "metadata": {
        "id": "2JLGcNHviKv3"
      },
      "source": [
        "model predict response time state (Fast/Slow) of a mouse-based on feedback type (Reward/No Reward) given to him in the previous trial      "
      ]
    },
    {
      "cell_type": "code",
      "metadata": {
        "id": "Wukgvoco_MFD",
        "colab": {
          "base_uri": "https://localhost:8080/",
          "height": 274
        },
        "outputId": "58556508-9396-4261-e8b8-b075f6473b14"
      },
      "source": [
        "#\"Define our variables\"\n",
        "response_time =dat['response_time']\n",
        "contrast_left=dat['contrast_left']\n",
        "contrast_right= dat['contrast_right']\n",
        "go_cue = dat['gocue']\n",
        "feedback_type = dat['feedback_type']\n",
        "\n",
        "response_time= response_time.flatten()\n",
        "go_cue = go_cue.flatten()\n",
        "\n",
        "response_time_after_gocue = response_time - go_cue \n",
        "contrast_difference = contrast_left - contrast_right\n",
        "\n",
        "\n",
        "contrast_difference_0 = [ trial for trial in range(len(contrast_difference)) if contrast_difference[trial] == 0 ]\n",
        "small_response_time = np.array([trail for trail in range(len(response_time_after_gocue[contrast_difference_0])) if response_time_after_gocue[trail] < 0.7 ])\n",
        "large_response_time = np.array([trail for trail in range(len(response_time_after_gocue[contrast_difference_0])) if response_time_after_gocue[trail] > 0.7 ])\n",
        "\n",
        "\n",
        "feedback_before_small = feedback_type[ small_response_time -1  ]\n",
        "feedback_before_large = feedback_type[ large_response_time -1  ]\n",
        "\n",
        "reward = []\n",
        "for i in feedback_type:\n",
        "  if i == -1:\n",
        "    i = 0\n",
        "    reward.append(i)\n",
        "  else:\n",
        "    reward.append(i)\n",
        "\n",
        "no_reward = []\n",
        "for i in feedback_type:\n",
        "  if i == 1:\n",
        "    i = 0\n",
        "    no_reward.append(i)\n",
        "  else:\n",
        "    i = 1\n",
        "    no_reward.append(i)\n",
        "\n",
        "response_time_state=[]\n",
        "\n",
        "\n",
        "for i in response_time_after_gocue:\n",
        "  if i <= 0.7:\n",
        "    i = 4\n",
        "    response_time_state.append(i)\n",
        "  else:\n",
        "    i = 3\n",
        "    response_time_state.append(i)\n",
        "\n",
        "response_time_state = np.array(response_time_state)\n",
        "reward = np.array(reward)\n",
        "no_reward = np.array(no_reward)\n",
        "\n",
        "reward = reward[contrast_difference_0]\n",
        "no_reward = no_reward[contrast_difference_0]\n",
        "response_time_state = response_time_state[contrast_difference_0]\n",
        "\n",
        "contrast_difference_0 = np.array(contrast_difference_0)\n",
        "contrast_difference_before_cd0 = contrast_difference[contrast_difference_0 - 1 ]\n",
        "\n",
        "import pandas as pd\n",
        "from sklearn.model_selection import train_test_split\n",
        "from sklearn.linear_model import LogisticRegression\n",
        "from sklearn import metrics\n",
        "import seaborn as sn\n",
        "import matplotlib.pyplot as plt\n",
        "\n",
        "mice= {'reward':reward, 'no reward': no_reward,'response_time_state':response_time_state}\n",
        "df = pd.DataFrame( mice , columns= ['reward', 'no reward','response_time_state'])\n",
        "X = df[['reward','no reward']]\n",
        "y= df['response_time_state']\n",
        "X_train,X_test,y_train,y_test = train_test_split(X,y,test_size=0.25,random_state=0)\n",
        "logistic_regression= LogisticRegression()\n",
        "logistic_regression.fit(X_train,y_train)\n",
        "y_pred=logistic_regression.predict(X_test)\n",
        "confusion_matrix = pd.crosstab(y_test, y_pred, rownames=['Actual'], colnames=['Predicted'])\n",
        "sn.heatmap(confusion_matrix, annot=True)\n",
        "print('Accuracy: ',metrics.accuracy_score(y_test, y_pred))\n"
      ],
      "execution_count": null,
      "outputs": [
        {
          "output_type": "stream",
          "text": [
            "Accuracy:  0.71875\n"
          ],
          "name": "stdout"
        },
        {
          "output_type": "display_data",
          "data": {
            "image/png": "[encoded data removed]",
            "text/plain": [
              "<Figure size 1440x288 with 2 Axes>"
            ]
          },
          "metadata": {
            "tags": [],
            "needs_background": "light"
          }
        }
      ]
    }
  ]
}